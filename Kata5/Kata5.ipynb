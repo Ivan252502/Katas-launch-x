{
 "cells": [
  {
   "cell_type": "markdown",
   "metadata": {},
   "source": [
    "## Utilizar operadores aritméticos\n",
    "Clacula la distancia que hay entre 2 planetas, Tierra y Júpiter."
   ]
  },
  {
   "cell_type": "code",
   "execution_count": 2,
   "metadata": {},
   "outputs": [
    {
     "name": "stdout",
     "output_type": "stream",
     "text": [
      "628949330 Km\n"
     ]
    }
   ],
   "source": [
    "#Distancia en Km\n",
    "Dis_tierra = 149597870\n",
    "Dis_jupiter = 778547200\n",
    "Dis_total = (Dis_jupiter - Dis_tierra)\n",
    "print(Dis_total)"
   ]
  },
  {
   "cell_type": "code",
   "execution_count": 3,
   "metadata": {},
   "outputs": [
    {
     "ename": "TypeError",
     "evalue": "type str doesn't define __round__ method",
     "output_type": "error",
     "traceback": [
      "\u001b[1;31m---------------------------------------------------------------------------\u001b[0m",
      "\u001b[1;31mTypeError\u001b[0m                                 Traceback (most recent call last)",
      "\u001b[1;32mc:\\Users\\ivanc\\OneDrive\\Documentos\\Programación\\Kata5\\Kata5.ipynb Cell 3'\u001b[0m in \u001b[0;36m<module>\u001b[1;34m\u001b[0m\n\u001b[0;32m      <a href='vscode-notebook-cell:/c%3A/Users/ivanc/OneDrive/Documentos/Programaci%C3%B3n/Kata5/Kata5.ipynb#ch0000002?line=2'>3</a>\u001b[0m Jupiter \u001b[39m=\u001b[39m \u001b[39m778547200\u001b[39m \u001b[39m*\u001b[39m \u001b[39m0.621\u001b[39m\n\u001b[0;32m      <a href='vscode-notebook-cell:/c%3A/Users/ivanc/OneDrive/Documentos/Programaci%C3%B3n/Kata5/Kata5.ipynb#ch0000002?line=3'>4</a>\u001b[0m Total \u001b[39m=\u001b[39m (Jupiter \u001b[39m-\u001b[39m Tierra)\n\u001b[1;32m----> <a href='vscode-notebook-cell:/c%3A/Users/ivanc/OneDrive/Documentos/Programaci%C3%B3n/Kata5/Kata5.ipynb#ch0000002?line=4'>5</a>\u001b[0m \u001b[39mprint\u001b[39m(\u001b[39mround\u001b[39;49m(\u001b[39mstr\u001b[39;49m(Total) \u001b[39m+\u001b[39;49m \u001b[39m\"\u001b[39;49m\u001b[39m Milles\u001b[39;49m\u001b[39m\"\u001b[39;49m))\n",
      "\u001b[1;31mTypeError\u001b[0m: type str doesn't define __round__ method"
     ]
    }
   ],
   "source": [
    "#DIstancia en millas\n",
    "Tierra = 149597870 * 0.621\n",
    "Jupiter = 778547200 * 0.621\n",
    "Total = (Jupiter - Tierra)\n",
    "print(round(Total))"
   ]
  },
  {
   "cell_type": "markdown",
   "metadata": {},
   "source": [
    "##Convertir cadenas en números y usar valores absolutos"
   ]
  },
  {
   "cell_type": "code",
   "execution_count": 15,
   "metadata": {},
   "outputs": [
    {
     "name": "stdout",
     "output_type": "stream",
     "text": [
      "92901600\n",
      "67192200\n"
     ]
    }
   ],
   "source": [
    "#Distancia en millas\n",
    "Sol_tierra = input(\"¿Cuánta distancia hay entre el sol y la Tierra?\")\n",
    "Sol_venus = input(\"¿Cuánta distancia hay entre el Sol y Venus?\")\n",
    "\n",
    "Tierra = int(Sol_tierra)\n",
    "Venus = int(Sol_venus)\n",
    "\n",
    "print(round(abs(Tierra * 0.621)))\n",
    "print(round(abs(Venus * 0.621)))"
   ]
  }
 ],
 "metadata": {
  "interpreter": {
   "hash": "2be5faf79681da6f2a61fdfdd5405d65d042280f7fba6178067603e3a2925119"
  },
  "kernelspec": {
   "display_name": "Python 3.10.2 64-bit",
   "language": "python",
   "name": "python3"
  },
  "language_info": {
   "codemirror_mode": {
    "name": "ipython",
    "version": 3
   },
   "file_extension": ".py",
   "mimetype": "text/x-python",
   "name": "python",
   "nbconvert_exporter": "python",
   "pygments_lexer": "ipython3",
   "version": "3.10.2"
  },
  "orig_nbformat": 4
 },
 "nbformat": 4,
 "nbformat_minor": 2
}
