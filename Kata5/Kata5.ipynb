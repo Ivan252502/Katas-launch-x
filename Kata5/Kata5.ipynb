{
 "cells": [
  {
   "cell_type": "markdown",
   "metadata": {},
   "source": [
    "## Utilizar operadores aritméticos\n",
    "Clacula la distancia que hay entre 2 planetas, Tierra y Júpiter."
   ]
  },
  {
   "cell_type": "code",
   "execution_count": 7,
   "metadata": {},
   "outputs": [
    {
     "name": "stdout",
     "output_type": "stream",
     "text": [
      "628949330\n"
     ]
    }
   ],
   "source": [
    "#Distancia en Km\n",
    "Dis_tierra = 149597870\n",
    "Dis_jupiter = 778547200\n",
    "Dis_total = (Dis_jupiter - Dis_tierra)\n",
    "print(Dis_total)"
   ]
  },
  {
   "cell_type": "code",
   "execution_count": 11,
   "metadata": {},
   "outputs": [
    {
     "name": "stdout",
     "output_type": "stream",
     "text": [
      "390577534\n"
     ]
    }
   ],
   "source": [
    "#DIstancia en millas\n",
    "Tierra = 149597870 * 0.621\n",
    "Jupiter = 778547200 * 0.621\n",
    "Total = (Jupiter - Tierra)\n",
    "print(round(Total))"
   ]
  },
  {
   "cell_type": "markdown",
   "metadata": {},
   "source": [
    "##Convertir cadenas en números y usar valores absolutos"
   ]
  },
  {
   "cell_type": "code",
   "execution_count": 15,
   "metadata": {},
   "outputs": [
    {
     "name": "stdout",
     "output_type": "stream",
     "text": [
      "92901600\n",
      "67192200\n"
     ]
    }
   ],
   "source": [
    "#Distancia en millas\n",
    "Sol_tierra = input(\"¿Cuánta distancia hay entre el sol y la Tierra?\")\n",
    "Sol_venus = input(\"¿Cuánta distancia hay entre el Sol y Venus?\")\n",
    "\n",
    "Tierra = int(Sol_tierra)\n",
    "Venus = int(Sol_venus)\n",
    "\n",
    "print(round(abs(Tierra * 0.621)))\n",
    "print(round(abs(Venus * 0.621)))"
   ]
  }
 ],
 "metadata": {
  "interpreter": {
   "hash": "2be5faf79681da6f2a61fdfdd5405d65d042280f7fba6178067603e3a2925119"
  },
  "kernelspec": {
   "display_name": "Python 3.10.2 64-bit",
   "language": "python",
   "name": "python3"
  },
  "language_info": {
   "codemirror_mode": {
    "name": "ipython",
    "version": 3
   },
   "file_extension": ".py",
   "mimetype": "text/x-python",
   "name": "python",
   "nbconvert_exporter": "python",
   "pygments_lexer": "ipython3",
   "version": "3.10.2"
  },
  "orig_nbformat": 4
 },
 "nbformat": 4,
 "nbformat_minor": 2
}
