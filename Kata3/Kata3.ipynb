{
 "cells": [
  {
   "cell_type": "markdown",
   "metadata": {},
   "source": [
    "## Problema 1"
   ]
  },
  {
   "cell_type": "code",
   "execution_count": 10,
   "metadata": {},
   "outputs": [
    {
     "name": "stdout",
     "output_type": "stream",
     "text": [
      "El asteroide está cerca\n"
     ]
    }
   ],
   "source": [
    "velocidad = 49\n",
    "if velocidad >= 49:\n",
    "    print(\"¡El asteroide está cerca!\")\n",
    "else:\n",
    "    print(\"Fuera de peligro\")"
   ]
  },
  {
   "cell_type": "markdown",
   "metadata": {},
   "source": [
    "## Problema 2"
   ]
  },
  {
   "cell_type": "code",
   "execution_count": 11,
   "metadata": {},
   "outputs": [
    {
     "name": "stdout",
     "output_type": "stream",
     "text": [
      "No lo tenemos a la vista\n"
     ]
    }
   ],
   "source": [
    "velocidad = 19\n",
    "if velocidad > 20:\n",
    "    print(\"Buscalo, el asteroide está cerca\")\n",
    "elif velocidad == 20:\n",
    "    print(\"Buscalo, el asteroide está cerca\")\n",
    "else:\n",
    "    print(\"No lo tenemos a la vista\")"
   ]
  },
  {
   "cell_type": "markdown",
   "metadata": {},
   "source": [
    "## Problema 3"
   ]
  },
  {
   "cell_type": "code",
   "execution_count": 12,
   "metadata": {},
   "outputs": [
    {
     "name": "stdout",
     "output_type": "stream",
     "text": [
      "¡Un asteoride está apunto de impactar con la tierra!\n"
     ]
    }
   ],
   "source": [
    "velocidad = 80\n",
    "tamaño = 40\n",
    "if velocidad > 25 and tamaño > 25:\n",
    "    print(\"¡Un asteoride está apunto de impactar con la tierra!\")\n",
    "elif velocidad >= 20:\n",
    "    print(\"Buscalo, está arriba de tí\")\n",
    "elif tamaño < 25:\n",
    "    print(\"No lo tenemos a la vista\")\n",
    "else:\n",
    "    print(\"No lo tenemos a la vista\")"
   ]
  }
 ],
 "metadata": {
  "interpreter": {
   "hash": "2be5faf79681da6f2a61fdfdd5405d65d042280f7fba6178067603e3a2925119"
  },
  "kernelspec": {
   "display_name": "Python 3.10.2 64-bit",
   "language": "python",
   "name": "python3"
  },
  "language_info": {
   "codemirror_mode": {
    "name": "ipython",
    "version": 3
   },
   "file_extension": ".py",
   "mimetype": "text/x-python",
   "name": "python",
   "nbconvert_exporter": "python",
   "pygments_lexer": "ipython3",
   "version": "3.10.2"
  },
  "orig_nbformat": 4
 },
 "nbformat": 4,
 "nbformat_minor": 2
}
